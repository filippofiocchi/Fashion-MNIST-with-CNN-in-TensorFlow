{
  "nbformat": 4,
  "nbformat_minor": 0,
  "metadata": {
    "language_info": {
      "codemirror_mode": {
        "name": "ipython",
        "version": 3
      },
      "file_extension": ".py",
      "mimetype": "text/x-python",
      "name": "python",
      "nbconvert_exporter": "python",
      "pygments_lexer": "ipython3",
      "version": "3.6.4-final"
    },
    "orig_nbformat": 2,
    "kernelspec": {
      "name": "Python 3.6.4 64-bit ('Tensorflow-ler0PpP0')",
      "display_name": "Python 3.6.4 64-bit ('Tensorflow-ler0PpP0')",
      "metadata": {
        "interpreter": {
          "hash": "07df06258ffa39de7418b7b98983ac1411cc626ca44a2859d6ba720f8843c017"
        }
      }
    },
    "colab": {
      "name": "CNN.ipynb",
      "provenance": [],
      "include_colab_link": true
    },
    "accelerator": "GPU"
  },
  "cells": [
    {
      "cell_type": "markdown",
      "metadata": {
        "id": "view-in-github",
        "colab_type": "text"
      },
      "source": [
        "<a href=\"https://colab.research.google.com/github/filippofiocchi/Fashion-MNIST-with-CNN-in-TensorFlow/blob/main/CNN.ipynb\" target=\"_parent\"><img src=\"https://colab.research.google.com/assets/colab-badge.svg\" alt=\"Open In Colab\"/></a>"
      ]
    },
    {
      "cell_type": "code",
      "metadata": {
        "id": "TccJIBuHSNE3"
      },
      "source": [
        "import tensorflow as tf \n",
        "from tensorflow import keras\n",
        "from sklearn.datasets import load_sample_image\n",
        "import numpy as np_image"
      ],
      "execution_count": 2,
      "outputs": []
    },
    {
      "cell_type": "code",
      "metadata": {
        "id": "Ef_Z1hOxSNHB"
      },
      "source": [
        "#create the model with the sequential API\n",
        "model = keras.models.Sequential([\n",
        "    keras.layers.Conv2D(64, 7, activation='relu', padding='same', input_shape=[28,28,1]),\n",
        "    keras.layers.MaxPool2D(2),#2 is the stride\n",
        "    keras.layers.Conv2D(128, 3, activation='relu', padding='same'),\n",
        "    keras.layers.Conv2D(128, 3, activation='relu', padding='same'),\n",
        "    keras.layers.MaxPool2D(2),\n",
        "    keras.layers.Conv2D(256, 3, activation='relu', padding='same'),\n",
        "    keras.layers.Conv2D(256, 3, activation='relu', padding='same'),\n",
        "    keras.layers.MaxPool2D(2),\n",
        "    keras.layers.Flatten(),\n",
        "    keras.layers.Dense(128,activation='relu'),\n",
        "    keras.layers.Dropout(0.5),\n",
        "    keras.layers.Dense(64, activation=\"relu\"),\n",
        "    keras.layers.Dropout(0.5),\n",
        "    keras.layers.Dense(10, activation=\"softmax\")\n",
        "])"
      ],
      "execution_count": 3,
      "outputs": []
    },
    {
      "cell_type": "code",
      "metadata": {
        "id": "yyQ3W0FoSNIg",
        "outputId": "f2ecf9be-f41a-44ad-cdec-6b3c1e972d38",
        "colab": {
          "base_uri": "https://localhost:8080/",
          "height": 166
        }
      },
      "source": [
        "#load the dataset\n",
        "fashion = keras.datasets.fashion_mnist\n",
        "#separete training and test set\n",
        "(X_train_full, y_train_full), (X_test, y_test) = fashion.load_data()\n",
        "#reshape the input for the first convolutional layer\n",
        "X_train_full = X_train_full.reshape(X_train_full.shape[0], 28, 28, 1)\n",
        "X_test= X_test.reshape(X_test.shape[0], 28, 28, 1)"
      ],
      "execution_count": 4,
      "outputs": [
        {
          "output_type": "stream",
          "text": [
            "Downloading data from https://storage.googleapis.com/tensorflow/tf-keras-datasets/train-labels-idx1-ubyte.gz\n",
            "32768/29515 [=================================] - 0s 0us/step\n",
            "Downloading data from https://storage.googleapis.com/tensorflow/tf-keras-datasets/train-images-idx3-ubyte.gz\n",
            "26427392/26421880 [==============================] - 0s 0us/step\n",
            "Downloading data from https://storage.googleapis.com/tensorflow/tf-keras-datasets/t10k-labels-idx1-ubyte.gz\n",
            "8192/5148 [===============================================] - 0s 0us/step\n",
            "Downloading data from https://storage.googleapis.com/tensorflow/tf-keras-datasets/t10k-images-idx3-ubyte.gz\n",
            "4423680/4422102 [==============================] - 0s 0us/step\n"
          ],
          "name": "stdout"
        }
      ]
    },
    {
      "cell_type": "code",
      "metadata": {
        "id": "VXyhNc9xSNJW"
      },
      "source": [
        "#divide the training set in validation and training\n",
        "X_valid, X_train = X_train_full[:10000]/255.0 , X_train_full[10000:]/255.0\n",
        "y_valid, y_train = y_train_full[:10000], y_train_full[10000:]"
      ],
      "execution_count": 5,
      "outputs": []
    },
    {
      "cell_type": "code",
      "metadata": {
        "id": "jUTTLmDlSNKA",
        "outputId": "c067f895-5951-4665-e751-7146d3ff57a7",
        "colab": {
          "base_uri": "https://localhost:8080/",
          "height": 36
        }
      },
      "source": [
        "#the labels of y\n",
        "class_names = [\"T-shirt/top\", \"Trouser\", \"Pullover\", \"Dress\", \"Coat\",\n",
        "\"Sandal\", \"Shirt\", \"Sneaker\", \"Bag\", \"Ankle boot\"]\n",
        "class_names[y_train[0]]"
      ],
      "execution_count": 6,
      "outputs": [
        {
          "output_type": "execute_result",
          "data": {
            "application/vnd.google.colaboratory.intrinsic+json": {
              "type": "string"
            },
            "text/plain": [
              "'Bag'"
            ]
          },
          "metadata": {
            "tags": []
          },
          "execution_count": 6
        }
      ]
    },
    {
      "cell_type": "code",
      "metadata": {
        "id": "k3X8urvSSNKl"
      },
      "source": [
        "#set the loss, the optimizer and the metrics of our model, for the optimizer we coulf also use adam\n",
        "model.compile(\n",
        "    loss='sparse_categorical_crossentropy',\n",
        "    optimizer='sgd',\n",
        "    metrics=['accuracy']\n",
        ")"
      ],
      "execution_count": 7,
      "outputs": []
    },
    {
      "cell_type": "code",
      "metadata": {
        "id": "X4PxIeN6SNK5"
      },
      "source": [
        "# create callbacks to save the model at the end of each epochs and one for ealy stopping in case of overfitting\n",
        "model.save('my_keras_cnn.h5')\n",
        "checkpoint = keras.callbacks.ModelCheckpoint('my_keras_cnn.h50',save_best_only=True)\n",
        "early_stop = keras.callbacks.EarlyStopping(patience=10, restore_best_weights=True)"
      ],
      "execution_count": 8,
      "outputs": []
    },
    {
      "cell_type": "code",
      "metadata": {
        "id": "ydcr9a6uSNMP",
        "outputId": "d42ad32c-da2c-436a-e9c2-bbd659aba808",
        "colab": {
          "base_uri": "https://localhost:8080/",
          "height": 1000
        }
      },
      "source": [
        "#train the model\n",
        "history = model.fit(X_train,y_train, epochs=20, validation_data=(X_valid,y_valid),callbacks=[checkpoint,early_stop])"
      ],
      "execution_count": 9,
      "outputs": [
        {
          "output_type": "stream",
          "text": [
            "Epoch 1/20\n",
            "1563/1563 [==============================] - ETA: 0s - loss: 1.4589 - accuracy: 0.4673WARNING:tensorflow:From /usr/local/lib/python3.6/dist-packages/tensorflow/python/training/tracking/tracking.py:111: Model.state_updates (from tensorflow.python.keras.engine.training) is deprecated and will be removed in a future version.\n",
            "Instructions for updating:\n",
            "This property should not be used in TensorFlow 2.0, as updates are applied automatically.\n",
            "WARNING:tensorflow:From /usr/local/lib/python3.6/dist-packages/tensorflow/python/training/tracking/tracking.py:111: Layer.updates (from tensorflow.python.keras.engine.base_layer) is deprecated and will be removed in a future version.\n",
            "Instructions for updating:\n",
            "This property should not be used in TensorFlow 2.0, as updates are applied automatically.\n",
            "INFO:tensorflow:Assets written to: my_keras_cnn.h50/assets\n",
            "1563/1563 [==============================] - 24s 16ms/step - loss: 1.4589 - accuracy: 0.4673 - val_loss: 0.7307 - val_accuracy: 0.7250\n",
            "Epoch 2/20\n",
            "1561/1563 [============================>.] - ETA: 0s - loss: 0.8278 - accuracy: 0.7002INFO:tensorflow:Assets written to: my_keras_cnn.h50/assets\n",
            "1563/1563 [==============================] - 24s 15ms/step - loss: 0.8278 - accuracy: 0.7002 - val_loss: 0.5854 - val_accuracy: 0.7767\n",
            "Epoch 3/20\n",
            "1561/1563 [============================>.] - ETA: 0s - loss: 0.6878 - accuracy: 0.7537INFO:tensorflow:Assets written to: my_keras_cnn.h50/assets\n",
            "1563/1563 [==============================] - 24s 15ms/step - loss: 0.6876 - accuracy: 0.7537 - val_loss: 0.4925 - val_accuracy: 0.8192\n",
            "Epoch 4/20\n",
            "1561/1563 [============================>.] - ETA: 0s - loss: 0.6080 - accuracy: 0.7807INFO:tensorflow:Assets written to: my_keras_cnn.h50/assets\n",
            "1563/1563 [==============================] - 24s 15ms/step - loss: 0.6080 - accuracy: 0.7807 - val_loss: 0.4668 - val_accuracy: 0.8247\n",
            "Epoch 5/20\n",
            "1561/1563 [============================>.] - ETA: 0s - loss: 0.5589 - accuracy: 0.7983INFO:tensorflow:Assets written to: my_keras_cnn.h50/assets\n",
            "1563/1563 [==============================] - 24s 15ms/step - loss: 0.5588 - accuracy: 0.7982 - val_loss: 0.4562 - val_accuracy: 0.8325\n",
            "Epoch 6/20\n",
            "1561/1563 [============================>.] - ETA: 0s - loss: 0.5240 - accuracy: 0.8144INFO:tensorflow:Assets written to: my_keras_cnn.h50/assets\n",
            "1563/1563 [==============================] - 24s 15ms/step - loss: 0.5239 - accuracy: 0.8144 - val_loss: 0.4072 - val_accuracy: 0.8507\n",
            "Epoch 7/20\n",
            "1560/1563 [============================>.] - ETA: 0s - loss: 0.4968 - accuracy: 0.8257INFO:tensorflow:Assets written to: my_keras_cnn.h50/assets\n",
            "1563/1563 [==============================] - 24s 15ms/step - loss: 0.4971 - accuracy: 0.8256 - val_loss: 0.3938 - val_accuracy: 0.8558\n",
            "Epoch 8/20\n",
            "1560/1563 [============================>.] - ETA: 0s - loss: 0.4738 - accuracy: 0.8347INFO:tensorflow:Assets written to: my_keras_cnn.h50/assets\n",
            "1563/1563 [==============================] - 24s 15ms/step - loss: 0.4737 - accuracy: 0.8348 - val_loss: 0.3744 - val_accuracy: 0.8580\n",
            "Epoch 9/20\n",
            "1561/1563 [============================>.] - ETA: 0s - loss: 0.4484 - accuracy: 0.8443INFO:tensorflow:Assets written to: my_keras_cnn.h50/assets\n",
            "1563/1563 [==============================] - 24s 16ms/step - loss: 0.4484 - accuracy: 0.8443 - val_loss: 0.3580 - val_accuracy: 0.8674\n",
            "Epoch 10/20\n",
            "1563/1563 [==============================] - 23s 15ms/step - loss: 0.4282 - accuracy: 0.8509 - val_loss: 0.3585 - val_accuracy: 0.8660\n",
            "Epoch 11/20\n",
            "1561/1563 [============================>.] - ETA: 0s - loss: 0.4168 - accuracy: 0.8559INFO:tensorflow:Assets written to: my_keras_cnn.h50/assets\n",
            "1563/1563 [==============================] - 24s 15ms/step - loss: 0.4169 - accuracy: 0.8558 - val_loss: 0.3473 - val_accuracy: 0.8704\n",
            "Epoch 12/20\n",
            "1560/1563 [============================>.] - ETA: 0s - loss: 0.3974 - accuracy: 0.8624INFO:tensorflow:Assets written to: my_keras_cnn.h50/assets\n",
            "1563/1563 [==============================] - 24s 16ms/step - loss: 0.3978 - accuracy: 0.8624 - val_loss: 0.3381 - val_accuracy: 0.8725\n",
            "Epoch 13/20\n",
            "1561/1563 [============================>.] - ETA: 0s - loss: 0.3880 - accuracy: 0.8652INFO:tensorflow:Assets written to: my_keras_cnn.h50/assets\n",
            "1563/1563 [==============================] - 24s 16ms/step - loss: 0.3880 - accuracy: 0.8651 - val_loss: 0.3171 - val_accuracy: 0.8786\n",
            "Epoch 14/20\n",
            "1563/1563 [==============================] - 23s 15ms/step - loss: 0.3741 - accuracy: 0.8695 - val_loss: 0.3184 - val_accuracy: 0.8792\n",
            "Epoch 15/20\n",
            "1563/1563 [==============================] - ETA: 0s - loss: 0.3627 - accuracy: 0.8729INFO:tensorflow:Assets written to: my_keras_cnn.h50/assets\n",
            "1563/1563 [==============================] - 24s 15ms/step - loss: 0.3627 - accuracy: 0.8729 - val_loss: 0.2982 - val_accuracy: 0.8864\n",
            "Epoch 16/20\n",
            "1563/1563 [==============================] - ETA: 0s - loss: 0.3543 - accuracy: 0.8775INFO:tensorflow:Assets written to: my_keras_cnn.h50/assets\n",
            "1563/1563 [==============================] - 24s 15ms/step - loss: 0.3543 - accuracy: 0.8775 - val_loss: 0.2969 - val_accuracy: 0.8877\n",
            "Epoch 17/20\n",
            "1563/1563 [==============================] - 23s 15ms/step - loss: 0.3439 - accuracy: 0.8797 - val_loss: 0.2995 - val_accuracy: 0.8870\n",
            "Epoch 18/20\n",
            "1561/1563 [============================>.] - ETA: 0s - loss: 0.3398 - accuracy: 0.8816INFO:tensorflow:Assets written to: my_keras_cnn.h50/assets\n",
            "1563/1563 [==============================] - 24s 15ms/step - loss: 0.3399 - accuracy: 0.8816 - val_loss: 0.2954 - val_accuracy: 0.8872\n",
            "Epoch 19/20\n",
            "1560/1563 [============================>.] - ETA: 0s - loss: 0.3286 - accuracy: 0.8853INFO:tensorflow:Assets written to: my_keras_cnn.h50/assets\n",
            "1563/1563 [==============================] - 24s 15ms/step - loss: 0.3286 - accuracy: 0.8852 - val_loss: 0.2895 - val_accuracy: 0.8909\n",
            "Epoch 20/20\n",
            "1562/1563 [============================>.] - ETA: 0s - loss: 0.3193 - accuracy: 0.8896INFO:tensorflow:Assets written to: my_keras_cnn.h50/assets\n",
            "1563/1563 [==============================] - 24s 15ms/step - loss: 0.3193 - accuracy: 0.8896 - val_loss: 0.2740 - val_accuracy: 0.8997\n"
          ],
          "name": "stdout"
        }
      ]
    },
    {
      "cell_type": "code",
      "metadata": {
        "id": "yyyRPUDYSNMm",
        "outputId": "b6799c0a-4496-40d7-bd67-85bd39022651",
        "colab": {
          "base_uri": "https://localhost:8080/",
          "height": 54
        }
      },
      "source": [
        "model = keras.models.load_model(\"/content/my_keras_cnn.h50\") # roll back to best model\n",
        "model.evaluate(X_test,y_test)"
      ],
      "execution_count": 14,
      "outputs": [
        {
          "output_type": "stream",
          "text": [
            "313/313 [==============================] - 2s 6ms/step - loss: 25.4337 - accuracy: 0.1165\n"
          ],
          "name": "stdout"
        },
        {
          "output_type": "execute_result",
          "data": {
            "text/plain": [
              "[25.433685302734375, 0.11649999767541885]"
            ]
          },
          "metadata": {
            "tags": []
          },
          "execution_count": 14
        }
      ]
    }
  ]
}