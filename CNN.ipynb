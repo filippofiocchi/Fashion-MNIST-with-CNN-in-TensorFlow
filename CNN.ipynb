{
  "nbformat": 4,
  "nbformat_minor": 0,
  "metadata": {
    "language_info": {
      "codemirror_mode": {
        "name": "ipython",
        "version": 3
      },
      "file_extension": ".py",
      "mimetype": "text/x-python",
      "name": "python",
      "nbconvert_exporter": "python",
      "pygments_lexer": "ipython3",
      "version": "3.6.4-final"
    },
    "orig_nbformat": 2,
    "kernelspec": {
      "name": "Python 3.6.4 64-bit ('Tensorflow-ler0PpP0')",
      "display_name": "Python 3.6.4 64-bit ('Tensorflow-ler0PpP0')",
      "metadata": {
        "interpreter": {
          "hash": "07df06258ffa39de7418b7b98983ac1411cc626ca44a2859d6ba720f8843c017"
        }
      }
    },
    "colab": {
      "name": "CNN.ipynb",
      "provenance": [],
      "include_colab_link": true
    },
    "accelerator": "GPU"
  },
  "cells": [
    {
      "cell_type": "markdown",
      "metadata": {
        "id": "view-in-github",
        "colab_type": "text"
      },
      "source": [
        "<a href=\"https://colab.research.google.com/github/filippofiocchi/Fashion-MNIST-with-CNN-in-TensorFlow/blob/main/CNN.ipynb\" target=\"_parent\"><img src=\"https://colab.research.google.com/assets/colab-badge.svg\" alt=\"Open In Colab\"/></a>"
      ]
    },
    {
      "cell_type": "code",
      "metadata": {
        "id": "0V_k34RPb7Lf"
      },
      "source": [
        "import tensorflow as tf \n",
        "from tensorflow import keras\n",
        "from sklearn.datasets import load_sample_image\n",
        "import numpy as np"
      ],
      "execution_count": 3,
      "outputs": []
    },
    {
      "cell_type": "code",
      "metadata": {
        "id": "stK9uq4eb7Lr"
      },
      "source": [
        "#create the model with the sequential API\n",
        "model = keras.models.Sequential([\n",
        "    keras.layers.Conv2D(64, 7, activation='relu', padding='same', input_shape=[28,28,1]),\n",
        "    keras.layers.MaxPool2D(2),#2 is the stride\n",
        "    keras.layers.Conv2D(128, 3, activation='relu', padding='same'),\n",
        "    keras.layers.Conv2D(128, 3, activation='relu', padding='same'),\n",
        "    keras.layers.MaxPool2D(2),\n",
        "    keras.layers.Conv2D(256, 3, activation='relu', padding='same'),\n",
        "    keras.layers.Conv2D(256, 3, activation='relu', padding='same'),\n",
        "    keras.layers.MaxPool2D(2),\n",
        "    keras.layers.Flatten(),\n",
        "    keras.layers.Dense(128,activation='relu'),\n",
        "    keras.layers.Dropout(0.5),\n",
        "    keras.layers.Dense(64, activation=\"relu\"),\n",
        "    keras.layers.Dropout(0.5),\n",
        "    keras.layers.Dense(10, activation=\"softmax\")\n",
        "])"
      ],
      "execution_count": 4,
      "outputs": []
    },
    {
      "cell_type": "code",
      "metadata": {
        "id": "08MEV7tOb7L6",
        "outputId": "7c72e192-cd9f-4aa4-c359-a4b83d59e4fd",
        "colab": {
          "base_uri": "https://localhost:8080/",
          "height": 166
        }
      },
      "source": [
        "#load the dataset\n",
        "fashion = keras.datasets.fashion_mnist\n",
        "#separete training and test set\n",
        "(X_train_full, y_train_full), (X_test, y_test) = fashion.load_data()\n",
        "#reshape the input for the first convolutional layer\n",
        "X_train_full = X_train_full.reshape(X_train_full.shape[0], 28, 28, 1)\n",
        "X_test= X_test.reshape(X_test.shape[0], 28, 28, 1)"
      ],
      "execution_count": 5,
      "outputs": [
        {
          "output_type": "stream",
          "text": [
            "Downloading data from https://storage.googleapis.com/tensorflow/tf-keras-datasets/train-labels-idx1-ubyte.gz\n",
            "32768/29515 [=================================] - 0s 0us/step\n",
            "Downloading data from https://storage.googleapis.com/tensorflow/tf-keras-datasets/train-images-idx3-ubyte.gz\n",
            "26427392/26421880 [==============================] - 0s 0us/step\n",
            "Downloading data from https://storage.googleapis.com/tensorflow/tf-keras-datasets/t10k-labels-idx1-ubyte.gz\n",
            "8192/5148 [===============================================] - 0s 0us/step\n",
            "Downloading data from https://storage.googleapis.com/tensorflow/tf-keras-datasets/t10k-images-idx3-ubyte.gz\n",
            "4423680/4422102 [==============================] - 0s 0us/step\n"
          ],
          "name": "stdout"
        }
      ]
    },
    {
      "cell_type": "code",
      "metadata": {
        "id": "VcQ6Sbyeb7ME"
      },
      "source": [
        "#divide the training set in validation and training\n",
        "X_valid, X_train = X_train_full[:10000]/255.0 , X_train_full[10000:]/255.0\n",
        "y_valid, y_train = y_train_full[:10000], y_train_full[10000:]"
      ],
      "execution_count": 6,
      "outputs": []
    },
    {
      "cell_type": "code",
      "metadata": {
        "id": "8CQQYCsab7MK",
        "outputId": "d05e1f44-21bd-4287-87cd-5566c79ce88a",
        "colab": {
          "base_uri": "https://localhost:8080/",
          "height": 36
        }
      },
      "source": [
        "#the labels of y\n",
        "class_names = [\"T-shirt/top\", \"Trouser\", \"Pullover\", \"Dress\", \"Coat\",\n",
        "\"Sandal\", \"Shirt\", \"Sneaker\", \"Bag\", \"Ankle boot\"]\n",
        "class_names[y_train[0]]"
      ],
      "execution_count": 7,
      "outputs": [
        {
          "output_type": "execute_result",
          "data": {
            "application/vnd.google.colaboratory.intrinsic+json": {
              "type": "string"
            },
            "text/plain": [
              "'Bag'"
            ]
          },
          "metadata": {
            "tags": []
          },
          "execution_count": 7
        }
      ]
    },
    {
      "cell_type": "code",
      "metadata": {
        "id": "A4bSd8fhb7MT"
      },
      "source": [
        "#set the loss, the optimizer and the metrics of our model, for the optimizer we coulf also use adam\n",
        "model.compile(\n",
        "    loss='sparse_categorical_crossentropy',\n",
        "    optimizer='sgd',\n",
        "    metrics=['accuracy']\n",
        ")"
      ],
      "execution_count": 8,
      "outputs": []
    },
    {
      "cell_type": "code",
      "metadata": {
        "id": "lGYOUUa3b7Mb"
      },
      "source": [
        "# create callbacks to save the model at the end of each epochs and one for ealy stopping in case of overfitting\n",
        "checkpoint = keras.callbacks.ModelCheckpoint('my_keras_cnn.h50',save_best_only=True)\n",
        "early_stop = keras.callbacks.EarlyStopping(patience=10, restore_best_weights=True)"
      ],
      "execution_count": 9,
      "outputs": []
    },
    {
      "cell_type": "code",
      "metadata": {
        "id": "ism-6T5zb7Mh",
        "outputId": "1d587006-0a07-43c9-9e30-049fd6fc0248",
        "colab": {
          "base_uri": "https://localhost:8080/",
          "height": 1000
        }
      },
      "source": [
        "#train the model\n",
        "history = model.fit(X_train,y_train, epochs=20, validation_data=(X_valid,y_valid),callbacks=[checkpoint,early_stop])"
      ],
      "execution_count": 10,
      "outputs": [
        {
          "output_type": "stream",
          "text": [
            "Epoch 1/20\n",
            "1563/1563 [==============================] - ETA: 0s - loss: 1.4380 - accuracy: 0.4670WARNING:tensorflow:From /usr/local/lib/python3.6/dist-packages/tensorflow/python/training/tracking/tracking.py:111: Model.state_updates (from tensorflow.python.keras.engine.training) is deprecated and will be removed in a future version.\n",
            "Instructions for updating:\n",
            "This property should not be used in TensorFlow 2.0, as updates are applied automatically.\n",
            "WARNING:tensorflow:From /usr/local/lib/python3.6/dist-packages/tensorflow/python/training/tracking/tracking.py:111: Layer.updates (from tensorflow.python.keras.engine.base_layer) is deprecated and will be removed in a future version.\n",
            "Instructions for updating:\n",
            "This property should not be used in TensorFlow 2.0, as updates are applied automatically.\n",
            "INFO:tensorflow:Assets written to: my_keras_cnn.h50/assets\n",
            "1563/1563 [==============================] - 26s 16ms/step - loss: 1.4380 - accuracy: 0.4670 - val_loss: 0.7422 - val_accuracy: 0.7184\n",
            "Epoch 2/20\n",
            "1561/1563 [============================>.] - ETA: 0s - loss: 0.8462 - accuracy: 0.6923INFO:tensorflow:Assets written to: my_keras_cnn.h50/assets\n",
            "1563/1563 [==============================] - 25s 16ms/step - loss: 0.8462 - accuracy: 0.6923 - val_loss: 0.5846 - val_accuracy: 0.7728\n",
            "Epoch 3/20\n",
            "1560/1563 [============================>.] - ETA: 0s - loss: 0.6928 - accuracy: 0.7503INFO:tensorflow:Assets written to: my_keras_cnn.h50/assets\n",
            "1563/1563 [==============================] - 25s 16ms/step - loss: 0.6926 - accuracy: 0.7504 - val_loss: 0.5061 - val_accuracy: 0.8136\n",
            "Epoch 4/20\n",
            "1562/1563 [============================>.] - ETA: 0s - loss: 0.6082 - accuracy: 0.7828INFO:tensorflow:Assets written to: my_keras_cnn.h50/assets\n",
            "1563/1563 [==============================] - 25s 16ms/step - loss: 0.6081 - accuracy: 0.7828 - val_loss: 0.4633 - val_accuracy: 0.8289\n",
            "Epoch 5/20\n",
            "1562/1563 [============================>.] - ETA: 0s - loss: 0.5614 - accuracy: 0.8007INFO:tensorflow:Assets written to: my_keras_cnn.h50/assets\n",
            "1563/1563 [==============================] - 25s 16ms/step - loss: 0.5614 - accuracy: 0.8007 - val_loss: 0.4367 - val_accuracy: 0.8457\n",
            "Epoch 6/20\n",
            "1563/1563 [==============================] - ETA: 0s - loss: 0.5186 - accuracy: 0.8168INFO:tensorflow:Assets written to: my_keras_cnn.h50/assets\n",
            "1563/1563 [==============================] - 25s 16ms/step - loss: 0.5186 - accuracy: 0.8168 - val_loss: 0.4206 - val_accuracy: 0.8470\n",
            "Epoch 7/20\n",
            "1560/1563 [============================>.] - ETA: 0s - loss: 0.4939 - accuracy: 0.8275INFO:tensorflow:Assets written to: my_keras_cnn.h50/assets\n",
            "1563/1563 [==============================] - 25s 16ms/step - loss: 0.4937 - accuracy: 0.8276 - val_loss: 0.3871 - val_accuracy: 0.8587\n",
            "Epoch 8/20\n",
            "1563/1563 [==============================] - ETA: 0s - loss: 0.4704 - accuracy: 0.8358INFO:tensorflow:Assets written to: my_keras_cnn.h50/assets\n",
            "1563/1563 [==============================] - 25s 16ms/step - loss: 0.4704 - accuracy: 0.8358 - val_loss: 0.3698 - val_accuracy: 0.8610\n",
            "Epoch 9/20\n",
            "1560/1563 [============================>.] - ETA: 0s - loss: 0.4495 - accuracy: 0.8427INFO:tensorflow:Assets written to: my_keras_cnn.h50/assets\n",
            "1563/1563 [==============================] - 25s 16ms/step - loss: 0.4493 - accuracy: 0.8428 - val_loss: 0.3564 - val_accuracy: 0.8632\n",
            "Epoch 10/20\n",
            "1563/1563 [==============================] - 24s 15ms/step - loss: 0.4324 - accuracy: 0.8508 - val_loss: 0.3712 - val_accuracy: 0.8603\n",
            "Epoch 11/20\n",
            "1560/1563 [============================>.] - ETA: 0s - loss: 0.4171 - accuracy: 0.8526INFO:tensorflow:Assets written to: my_keras_cnn.h50/assets\n",
            "1563/1563 [==============================] - 25s 16ms/step - loss: 0.4169 - accuracy: 0.8526 - val_loss: 0.3306 - val_accuracy: 0.8769\n",
            "Epoch 12/20\n",
            "1560/1563 [============================>.] - ETA: 0s - loss: 0.4050 - accuracy: 0.8588INFO:tensorflow:Assets written to: my_keras_cnn.h50/assets\n",
            "1563/1563 [==============================] - 25s 16ms/step - loss: 0.4052 - accuracy: 0.8588 - val_loss: 0.3273 - val_accuracy: 0.8769\n",
            "Epoch 13/20\n",
            "1560/1563 [============================>.] - ETA: 0s - loss: 0.3911 - accuracy: 0.8626INFO:tensorflow:Assets written to: my_keras_cnn.h50/assets\n",
            "1563/1563 [==============================] - 25s 16ms/step - loss: 0.3911 - accuracy: 0.8625 - val_loss: 0.3179 - val_accuracy: 0.8812\n",
            "Epoch 14/20\n",
            "1560/1563 [============================>.] - ETA: 0s - loss: 0.3804 - accuracy: 0.8670INFO:tensorflow:Assets written to: my_keras_cnn.h50/assets\n",
            "1563/1563 [==============================] - 25s 16ms/step - loss: 0.3801 - accuracy: 0.8672 - val_loss: 0.3157 - val_accuracy: 0.8817\n",
            "Epoch 15/20\n",
            "1563/1563 [==============================] - ETA: 0s - loss: 0.3693 - accuracy: 0.8705INFO:tensorflow:Assets written to: my_keras_cnn.h50/assets\n",
            "1563/1563 [==============================] - 25s 16ms/step - loss: 0.3693 - accuracy: 0.8705 - val_loss: 0.3083 - val_accuracy: 0.8846\n",
            "Epoch 16/20\n",
            "1561/1563 [============================>.] - ETA: 0s - loss: 0.3589 - accuracy: 0.8740INFO:tensorflow:Assets written to: my_keras_cnn.h50/assets\n",
            "1563/1563 [==============================] - 25s 16ms/step - loss: 0.3587 - accuracy: 0.8740 - val_loss: 0.3016 - val_accuracy: 0.8858\n",
            "Epoch 17/20\n",
            "1563/1563 [==============================] - 24s 15ms/step - loss: 0.3486 - accuracy: 0.8760 - val_loss: 0.3027 - val_accuracy: 0.8885\n",
            "Epoch 18/20\n",
            "1562/1563 [============================>.] - ETA: 0s - loss: 0.3400 - accuracy: 0.8813INFO:tensorflow:Assets written to: my_keras_cnn.h50/assets\n",
            "1563/1563 [==============================] - 25s 16ms/step - loss: 0.3400 - accuracy: 0.8813 - val_loss: 0.2896 - val_accuracy: 0.8928\n",
            "Epoch 19/20\n",
            "1563/1563 [==============================] - 24s 15ms/step - loss: 0.3375 - accuracy: 0.8816 - val_loss: 0.3006 - val_accuracy: 0.8904\n",
            "Epoch 20/20\n",
            "1560/1563 [============================>.] - ETA: 0s - loss: 0.3253 - accuracy: 0.8871INFO:tensorflow:Assets written to: my_keras_cnn.h50/assets\n",
            "1563/1563 [==============================] - 25s 16ms/step - loss: 0.3252 - accuracy: 0.8871 - val_loss: 0.2832 - val_accuracy: 0.8977\n"
          ],
          "name": "stdout"
        }
      ]
    },
    {
      "cell_type": "code",
      "metadata": {
        "id": "IQPLX2UIb7Ml",
        "outputId": "5b858e5c-c53e-467b-f965-cd54f2587da4",
        "colab": {
          "base_uri": "https://localhost:8080/",
          "height": 54
        }
      },
      "source": [
        "\n",
        "model.evaluate(X_test,y_test)"
      ],
      "execution_count": 11,
      "outputs": [
        {
          "output_type": "stream",
          "text": [
            "313/313 [==============================] - 2s 8ms/step - loss: 28.9377 - accuracy: 0.8511\n"
          ],
          "name": "stdout"
        },
        {
          "output_type": "execute_result",
          "data": {
            "text/plain": [
              "[28.937660217285156, 0.8511000275611877]"
            ]
          },
          "metadata": {
            "tags": []
          },
          "execution_count": 11
        }
      ]
    },
    {
      "cell_type": "code",
      "metadata": {
        "id": "jN7EtAieevUc"
      },
      "source": [
        ""
      ],
      "execution_count": null,
      "outputs": []
    }
  ]
}